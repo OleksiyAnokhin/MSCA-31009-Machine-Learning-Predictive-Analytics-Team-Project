{
 "cells": [
  {
   "cell_type": "code",
   "execution_count": 1,
   "metadata": {
    "scrolled": true
   },
   "outputs": [],
   "source": [
    "import pandas as pd\n",
    "from sklearn.ensemble import GradientBoostingRegressor\n",
    "\n",
    "df = pd.read_pickle('combined v2.pkl')"
   ]
  },
  {
   "cell_type": "code",
   "execution_count": 2,
   "metadata": {},
   "outputs": [],
   "source": [
    "# Define X_train and X_test\n",
    "features = ['next_order', 'next_park_factor_SLG', 'next_park_factor_OBP', 'S_avg', 'SB_avg', \n",
    "                    'BB_avg', 'HR_avg', 'CS_avg', 'pts_1000', 'ratio_100', 'ratio_250', \n",
    "                    'ratio_500','park_ratio_SLG','park_ratio_OBP', 'pts_500_p','whip_SO_p'\n",
    "                    ,'ratio_2000'] + ['park_ratio_SLG_p','park_ratio_OBP_p']"
   ]
  },
  {
   "cell_type": "code",
   "execution_count": 3,
   "metadata": {},
   "outputs": [],
   "source": [
    "X_train = df[features][(df['year'] < 2017) & (df['year'] >= 2008)]\n",
    "X_test = df[features][df['year'] >= 2017]\n",
    "\n",
    "# Define y_train and y_test\n",
    "y_train = df['pts'][(df['year'] < 2017) & (df['year'] >= 2008)]\n",
    "y_test = df['pts'][df['year'] >= 2017]"
   ]
  },
  {
   "cell_type": "code",
   "execution_count": 4,
   "metadata": {},
   "outputs": [],
   "source": [
    "# Create an instance\n",
    "GBR = GradientBoostingRegressor()\n",
    "\n",
    "# Fit the model (subset of data)\n",
    "GBR.fit(X_train, y_train)\n",
    "\n",
    "# Predict y_pred\n",
    "y_pred = GBR.predict(X_test)"
   ]
  },
  {
   "cell_type": "code",
   "execution_count": 5,
   "metadata": {},
   "outputs": [
    {
     "name": "stdout",
     "output_type": "stream",
     "text": [
      "       correlation       MAE       RMSE\n",
      "year                                   \n",
      "2017      0.162100  7.526502   9.888406\n",
      "2018      0.174781  7.318687   9.515556\n",
      "2019      0.180639  7.699305  10.088049\n",
      "Total     0.172858  7.514210   9.832668\n"
     ]
    }
   ],
   "source": [
    "# Create predict\n",
    "pred = pd.DataFrame({'pred': y_pred, 'actual': y_test, 'year': df['year'][df['year'] >= 2017]})\n",
    "\n",
    "# Calculate residuals, MAE, and RMSE \n",
    "pred['residuals'] = pred['actual'] - pred['pred']\n",
    "pred['MAE'] = pred['residuals'].abs()\n",
    "pred['RMSE'] = pred['residuals']**2\n",
    "\n",
    "# Calculate correlation, group it by year\n",
    "cor = pred[['actual','pred','year']].groupby('year').corr().reset_index()\n",
    "cor = cor[cor['level_1'] == 'actual'][['year','pred']]\n",
    "\n",
    "# Add year column\n",
    "cor.set_index('year', inplace = True)\n",
    "\n",
    "# Add correlation\n",
    "cor.columns = ['correlation']\n",
    "\n",
    "# Put all metrics together per year and total\n",
    "cor.loc['Total','correlation'] =  pred[['actual','pred']].corr().iloc[0, 1]\n",
    "err = pred[['year','MAE','RMSE']].groupby('year').mean()\n",
    "err['RMSE'] = err['RMSE']**0.5\n",
    "err.loc['Total', 'MAE'] = pred['residuals'].abs().mean()\n",
    "err.loc['Total', 'RMSE'] = pred['RMSE'].mean()**0.5\n",
    "cor = cor.join(err)\n",
    "\n",
    "# Print result\n",
    "print(cor)"
   ]
  },
  {
   "cell_type": "code",
   "execution_count": 6,
   "metadata": {},
   "outputs": [
    {
     "name": "stdout",
     "output_type": "stream",
     "text": [
      "\n",
      "\n",
      "                     feat       imp\n",
      "0             next_order  0.507007\n",
      "8               pts_1000  0.249873\n",
      "1   next_park_factor_SLG  0.044487\n",
      "12        park_ratio_SLG  0.036567\n",
      "2   next_park_factor_OBP  0.026496\n",
      "6                 HR_avg  0.024911\n",
      "4                 SB_avg  0.018828\n",
      "10             ratio_250  0.014129\n",
      "3                  S_avg  0.012908\n",
      "9              ratio_100  0.012462\n",
      "13        park_ratio_OBP  0.009856\n",
      "5                 BB_avg  0.007936\n",
      "14             pts_500_p  0.007694\n",
      "15             whip_SO_p  0.007293\n",
      "18      park_ratio_OBP_p  0.005305\n",
      "16            ratio_2000  0.004227\n",
      "11             ratio_500  0.003679\n",
      "17      park_ratio_SLG_p  0.003322\n",
      "7                 CS_avg  0.003020\n"
     ]
    }
   ],
   "source": [
    "feat = pd.DataFrame({'feat':features,'imp':GBR.feature_importances_})\n",
    "feat.sort_values('imp', ascending=False, inplace=True)\n",
    "print('\\n\\n', feat)"
   ]
  },
  {
   "cell_type": "code",
   "execution_count": 7,
   "metadata": {},
   "outputs": [],
   "source": [
    "y_pred_train = GBR.predict(X_train)"
   ]
  },
  {
   "cell_type": "code",
   "execution_count": 9,
   "metadata": {},
   "outputs": [
    {
     "name": "stdout",
     "output_type": "stream",
     "text": [
      "       correlation       MAE      RMSE\n",
      "year                                  \n",
      "2008      0.189356  7.207799  9.458398\n",
      "2009      0.183573  7.233854  9.483906\n",
      "2010      0.191357  7.061317  9.231533\n",
      "2011      0.197084  7.004174  9.097591\n",
      "2012      0.194300  7.110968  9.253560\n",
      "2013      0.180551  6.980828  9.061074\n",
      "2014      0.188184  6.850441  8.829321\n",
      "2015      0.190091  7.039045  9.187790\n",
      "2016      0.186370  7.296233  9.540896\n",
      "Total     0.190549  7.087088  9.240598\n"
     ]
    }
   ],
   "source": [
    "pred_train = pd.DataFrame({'pred_train': y_pred_train, 'actual': y_train, 'year': df['year'][(df['year'] < 2017) & (df['year'] >= 2008)]})\n",
    "\n",
    "# Calculate residuals, MAE, and RMSE \n",
    "pred_train['residuals'] = pred_train['actual'] - pred_train['pred_train']\n",
    "pred_train['MAE'] = pred_train['residuals'].abs()\n",
    "pred_train['RMSE'] = pred_train['residuals']**2\n",
    "\n",
    "# Calculate correlation, group it by year\n",
    "cor = pred_train[['actual','pred_train','year']].groupby('year').corr().reset_index()\n",
    "cor = cor[cor['level_1'] == 'actual'][['year','pred_train']]\n",
    "\n",
    "# Add year column\n",
    "cor.set_index('year', inplace = True)\n",
    "\n",
    "# Add correlation\n",
    "cor.columns = ['correlation']\n",
    "\n",
    "# Put all metrics together per year and total\n",
    "cor.loc['Total','correlation'] =  pred_train[['actual','pred_train']].corr().iloc[0, 1]\n",
    "err = pred_train[['year','MAE','RMSE']].groupby('year').mean()\n",
    "err['RMSE'] = err['RMSE']**0.5\n",
    "err.loc['Total', 'MAE'] = pred_train['residuals'].abs().mean()\n",
    "err.loc['Total', 'RMSE'] = pred_train['RMSE'].mean()**0.5\n",
    "cor = cor.join(err)\n",
    "\n",
    "# Print result\n",
    "print(cor)"
   ]
  }
 ],
 "metadata": {
  "kernelspec": {
   "display_name": "Python 3",
   "language": "python",
   "name": "python3"
  },
  "language_info": {
   "codemirror_mode": {
    "name": "ipython",
    "version": 3
   },
   "file_extension": ".py",
   "mimetype": "text/x-python",
   "name": "python",
   "nbconvert_exporter": "python",
   "pygments_lexer": "ipython3",
   "version": "3.7.1"
  }
 },
 "nbformat": 4,
 "nbformat_minor": 4
}
